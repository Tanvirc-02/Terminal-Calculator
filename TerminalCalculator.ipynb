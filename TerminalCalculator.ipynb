{
  "nbformat": 4,
  "nbformat_minor": 0,
  "metadata": {
    "colab": {
      "provenance": [],
      "authorship_tag": "ABX9TyNRoATir8AXqcPjtMgi1WH0",
      "include_colab_link": true
    },
    "kernelspec": {
      "name": "python3",
      "display_name": "Python 3"
    },
    "language_info": {
      "name": "python"
    }
  },
  "cells": [
    {
      "cell_type": "markdown",
      "metadata": {
        "id": "view-in-github",
        "colab_type": "text"
      },
      "source": [
        "<a href=\"https://colab.research.google.com/github/ivvnt/Terminal-Calculator/blob/main/TerminalCalculator.ipynb\" target=\"_parent\"><img src=\"https://colab.research.google.com/assets/colab-badge.svg\" alt=\"Open In Colab\"/></a>"
      ]
    },
    {
      "cell_type": "code",
      "source": [
        "import math"
      ],
      "metadata": {
        "id": "Ic1SW23Oxp5a"
      },
      "execution_count": 2,
      "outputs": []
    },
    {
      "cell_type": "code",
      "execution_count": 3,
      "metadata": {
        "id": "MckZgvEExVHz"
      },
      "outputs": [],
      "source": [
        "def fact(n):\n",
        "    res = 1\n",
        "    for i in range(1, n+1):\n",
        "        res = res * i\n",
        "    return res\n",
        "def average(l):\n",
        "    return sum(l) / len(l)\n",
        "def percent(l, outof):\n",
        "    return (average(l)/outof)*100\n",
        "\n"
      ]
    },
    {
      "cell_type": "code",
      "source": [
        "while True:\n",
        "    c = input(\"\\nOperation(+, -, *, /, !, squareroot\\n    OR\\nEnter 'q' to quit:: \")\n",
        "    ops = {'+': lambda x,y: x+y, '-': lambda x,y: x-y, \"*\" : lambda x,y: x*y, '/': lambda x, y: x/y }\n",
        "\n",
        "\n",
        "    if c in ['+', \"-\", \"*\", \"/\"]:\n",
        "        a = int(input(\"First number: \"))\n",
        "        b = int(input(\"Second number: \"))\n",
        "        result = ops[c](a, b)\n",
        "        print(f\"selected operation is {c}. result is {result}\")\n",
        "    elif c== \"!\":\n",
        "        n =  int(input(\"Enter number: \"))\n",
        "        ad = fact(int(n))\n",
        "        print(f'factorial of {n} is {ad}')\n",
        "    elif c == \"avg\":\n",
        "        num = int(input(\"enter number of numbers: \"))\n",
        "        l=[]\n",
        "        for i in range(num):\n",
        "            l.append(int(input(f\"Enter numbers {i +1}: \")))\n",
        "        print(f\"Average of {l} is {average(l)}\")\n",
        "    elif c == \"percent\":\n",
        "        num = int(input(\"enter number of numbers: \"))\n",
        "        l = []\n",
        "        for i in range(num):\n",
        "            l.append(int(input(f\"Enter numbers {i + 1}: \")))\n",
        "        outof = int(input(\"out of total: \"))\n",
        "        print(f\"the percent of {l}/{outof} is {percent(l, outof)}\")\n",
        "    elif c == \"squareroot\":\n",
        "        num = int(input(\"enter number\"))\n",
        "        ad = math.sqrt(num)\n",
        "        print(ad)\n",
        "    elif c=='q':\n",
        "        break\n",
        "    else:\n",
        "        print(\"invalid operation.try again\\n\")\n"
      ],
      "metadata": {
        "id": "VvTIVh6SyAbt"
      },
      "execution_count": null,
      "outputs": []
    },
    {
      "cell_type": "code",
      "source": [],
      "metadata": {
        "id": "z_5P5trTxtYc"
      },
      "execution_count": null,
      "outputs": []
    }
  ]
}